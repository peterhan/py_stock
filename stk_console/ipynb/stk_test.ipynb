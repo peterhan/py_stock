{
 "cells": [
  {
   "cell_type": "code",
   "execution_count": 1,
   "metadata": {},
   "outputs": [],
   "source": [
    "from matplotlib import pyplot as plot\n",
    "import pandas as pd\n",
    "import tushare as ts\n",
    "import wencai as wc\n",
    "import numpy as np"
   ]
  },
  {
   "cell_type": "code",
   "execution_count": 2,
   "metadata": {},
   "outputs": [],
   "source": [
    "defects=[1,4,5,6,7,8]"
   ]
  },
  {
   "cell_type": "code",
   "execution_count": 3,
   "metadata": {},
   "outputs": [],
   "source": [
    "defects=np.array(defects)"
   ]
  },
  {
   "cell_type": "code",
   "execution_count": 4,
   "metadata": {},
   "outputs": [
    {
     "data": {
      "text/plain": [
       "5.166666666666667"
      ]
     },
     "execution_count": 4,
     "metadata": {},
     "output_type": "execute_result"
    }
   ],
   "source": [
    "defects.mean()"
   ]
  },
  {
   "cell_type": "code",
   "execution_count": 5,
   "metadata": {},
   "outputs": [
    {
     "data": {
      "text/plain": [
       "5.1388888888888893"
      ]
     },
     "execution_count": 5,
     "metadata": {},
     "output_type": "execute_result"
    }
   ],
   "source": [
    "defects.var()"
   ]
  },
  {
   "cell_type": "code",
   "execution_count": 6,
   "metadata": {},
   "outputs": [
    {
     "data": {
      "text/plain": [
       "2.2669117514559072"
      ]
     },
     "execution_count": 6,
     "metadata": {},
     "output_type": "execute_result"
    }
   ],
   "source": [
    "defects.std()"
   ]
  },
  {
   "cell_type": "code",
   "execution_count": 7,
   "metadata": {},
   "outputs": [
    {
     "data": {
      "text/plain": [
       "[<matplotlib.lines.Line2D at 0x10f8ce48>]"
      ]
     },
     "execution_count": 7,
     "metadata": {},
     "output_type": "execute_result"
    },
    {
     "data": {
      "image/png": "[encoded data removed]",
      "text/plain": [
       "<matplotlib.figure.Figure at 0x10eaf630>"
      ]
     },
     "metadata": {},
     "output_type": "display_data"
    }
   ],
   "source": [
    "plot.plot(defects)"
   ]
  },
  {
   "cell_type": "code",
   "execution_count": 29,
   "metadata": {},
   "outputs": [
    {
     "data": {
      "text/html": [
       "<div>\n",
       "<style scoped>\n",
       "    .dataframe tbody tr th:only-of-type {\n",
       "        vertical-align: middle;\n",
       "    }\n",
       "\n",
       "    .dataframe tbody tr th {\n",
       "        vertical-align: top;\n",
       "    }\n",
       "\n",
       "    .dataframe thead th {\n",
       "        text-align: right;\n",
       "    }\n",
       "</style>\n",
       "<table border=\"1\" class=\"dataframe\">\n",
       "  <thead>\n",
       "    <tr style=\"text-align: right;\">\n",
       "      <th></th>\n",
       "      <th>p_change</th>\n",
       "      <th>price</th>\n",
       "      <th>change</th>\n",
       "      <th>open</th>\n",
       "      <th>high</th>\n",
       "      <th>low</th>\n",
       "      <th>preprice</th>\n",
       "      <th>pe</th>\n",
       "      <th>volratio</th>\n",
       "      <th>turnover</th>\n",
       "      <th>...</th>\n",
       "      <th>floats</th>\n",
       "      <th>fvalues</th>\n",
       "      <th>abvalues</th>\n",
       "      <th>avgprice</th>\n",
       "      <th>strength</th>\n",
       "      <th>activity</th>\n",
       "      <th>avgturnover</th>\n",
       "      <th>attack</th>\n",
       "      <th>interval3</th>\n",
       "      <th>interval6</th>\n",
       "    </tr>\n",
       "  </thead>\n",
       "  <tbody>\n",
       "    <tr>\n",
       "      <th>count</th>\n",
       "      <td>3525.00000</td>\n",
       "      <td>3525.000000</td>\n",
       "      <td>3525.000000</td>\n",
       "      <td>3525.000000</td>\n",
       "      <td>3525.000000</td>\n",
       "      <td>3525.000000</td>\n",
       "      <td>3525.000000</td>\n",
       "      <td>3525.000000</td>\n",
       "      <td>3525.000000</td>\n",
       "      <td>3525.000000</td>\n",
       "      <td>...</td>\n",
       "      <td>3525.000000</td>\n",
       "      <td>3525.000000</td>\n",
       "      <td>3525.000000</td>\n",
       "      <td>3525.000000</td>\n",
       "      <td>3525.000000</td>\n",
       "      <td>3525.000000</td>\n",
       "      <td>3525.000000</td>\n",
       "      <td>3525.000000</td>\n",
       "      <td>3514.000000</td>\n",
       "      <td>3514.000000</td>\n",
       "    </tr>\n",
       "    <tr>\n",
       "      <th>mean</th>\n",
       "      <td>-0.12615</td>\n",
       "      <td>17.494902</td>\n",
       "      <td>-0.018403</td>\n",
       "      <td>16.622060</td>\n",
       "      <td>16.924803</td>\n",
       "      <td>16.380650</td>\n",
       "      <td>17.513305</td>\n",
       "      <td>105.827705</td>\n",
       "      <td>0.928142</td>\n",
       "      <td>2.681904</td>\n",
       "      <td>...</td>\n",
       "      <td>13.127265</td>\n",
       "      <td>125.114105</td>\n",
       "      <td>158.441807</td>\n",
       "      <td>17.517782</td>\n",
       "      <td>0.430085</td>\n",
       "      <td>1589.539858</td>\n",
       "      <td>0.001387</td>\n",
       "      <td>1.190479</td>\n",
       "      <td>9.322072</td>\n",
       "      <td>-1.567160</td>\n",
       "    </tr>\n",
       "    <tr>\n",
       "      <th>std</th>\n",
       "      <td>2.05025</td>\n",
       "      <td>20.921064</td>\n",
       "      <td>0.636029</td>\n",
       "      <td>21.184212</td>\n",
       "      <td>21.554956</td>\n",
       "      <td>20.864223</td>\n",
       "      <td>21.017067</td>\n",
       "      <td>403.167113</td>\n",
       "      <td>0.990300</td>\n",
       "      <td>6.074747</td>\n",
       "      <td>...</td>\n",
       "      <td>85.518935</td>\n",
       "      <td>542.192342</td>\n",
       "      <td>555.352135</td>\n",
       "      <td>20.992097</td>\n",
       "      <td>2.051950</td>\n",
       "      <td>1100.530394</td>\n",
       "      <td>0.002164</td>\n",
       "      <td>1.668962</td>\n",
       "      <td>31.001743</td>\n",
       "      <td>40.273957</td>\n",
       "    </tr>\n",
       "    <tr>\n",
       "      <th>min</th>\n",
       "      <td>-10.01000</td>\n",
       "      <td>0.000000</td>\n",
       "      <td>-8.380000</td>\n",
       "      <td>0.000000</td>\n",
       "      <td>0.000000</td>\n",
       "      <td>0.000000</td>\n",
       "      <td>0.000000</td>\n",
       "      <td>0.000000</td>\n",
       "      <td>0.000000</td>\n",
       "      <td>0.000000</td>\n",
       "      <td>...</td>\n",
       "      <td>0.000000</td>\n",
       "      <td>0.000000</td>\n",
       "      <td>0.000000</td>\n",
       "      <td>0.000000</td>\n",
       "      <td>-9.380000</td>\n",
       "      <td>0.000000</td>\n",
       "      <td>0.000000</td>\n",
       "      <td>0.000000</td>\n",
       "      <td>-76.160000</td>\n",
       "      <td>-86.040000</td>\n",
       "    </tr>\n",
       "    <tr>\n",
       "      <th>25%</th>\n",
       "      <td>-1.13000</td>\n",
       "      <td>6.890000</td>\n",
       "      <td>-0.130000</td>\n",
       "      <td>6.210000</td>\n",
       "      <td>6.300000</td>\n",
       "      <td>6.140000</td>\n",
       "      <td>6.900000</td>\n",
       "      <td>17.070000</td>\n",
       "      <td>0.610000</td>\n",
       "      <td>0.400000</td>\n",
       "      <td>...</td>\n",
       "      <td>1.640000</td>\n",
       "      <td>22.490000</td>\n",
       "      <td>36.620000</td>\n",
       "      <td>6.890000</td>\n",
       "      <td>-0.570000</td>\n",
       "      <td>748.000000</td>\n",
       "      <td>0.000400</td>\n",
       "      <td>0.230000</td>\n",
       "      <td>-4.360000</td>\n",
       "      <td>-17.427500</td>\n",
       "    </tr>\n",
       "    <tr>\n",
       "      <th>50%</th>\n",
       "      <td>-0.21000</td>\n",
       "      <td>11.400000</td>\n",
       "      <td>-0.020000</td>\n",
       "      <td>10.800000</td>\n",
       "      <td>10.950000</td>\n",
       "      <td>10.640000</td>\n",
       "      <td>11.410000</td>\n",
       "      <td>37.650000</td>\n",
       "      <td>0.800000</td>\n",
       "      <td>0.890000</td>\n",
       "      <td>...</td>\n",
       "      <td>4.300000</td>\n",
       "      <td>41.510000</td>\n",
       "      <td>59.890000</td>\n",
       "      <td>11.430000</td>\n",
       "      <td>0.330000</td>\n",
       "      <td>1371.000000</td>\n",
       "      <td>0.000800</td>\n",
       "      <td>0.640000</td>\n",
       "      <td>4.460000</td>\n",
       "      <td>-8.220000</td>\n",
       "    </tr>\n",
       "    <tr>\n",
       "      <th>75%</th>\n",
       "      <td>0.49000</td>\n",
       "      <td>21.590000</td>\n",
       "      <td>0.050000</td>\n",
       "      <td>20.590000</td>\n",
       "      <td>20.890000</td>\n",
       "      <td>20.300000</td>\n",
       "      <td>21.430000</td>\n",
       "      <td>80.370000</td>\n",
       "      <td>1.050000</td>\n",
       "      <td>2.180000</td>\n",
       "      <td>...</td>\n",
       "      <td>9.350000</td>\n",
       "      <td>85.960000</td>\n",
       "      <td>124.610000</td>\n",
       "      <td>21.630000</td>\n",
       "      <td>1.040000</td>\n",
       "      <td>2276.000000</td>\n",
       "      <td>0.001500</td>\n",
       "      <td>1.480000</td>\n",
       "      <td>17.807500</td>\n",
       "      <td>3.477500</td>\n",
       "    </tr>\n",
       "    <tr>\n",
       "      <th>max</th>\n",
       "      <td>10.07000</td>\n",
       "      <td>715.400000</td>\n",
       "      <td>9.590000</td>\n",
       "      <td>720.000000</td>\n",
       "      <td>728.660000</td>\n",
       "      <td>713.000000</td>\n",
       "      <td>723.780000</td>\n",
       "      <td>14569.500000</td>\n",
       "      <td>42.220000</td>\n",
       "      <td>79.610000</td>\n",
       "      <td>...</td>\n",
       "      <td>2940.550000</td>\n",
       "      <td>15556.630000</td>\n",
       "      <td>15556.620000</td>\n",
       "      <td>720.570000</td>\n",
       "      <td>10.700000</td>\n",
       "      <td>4718.000000</td>\n",
       "      <td>0.048600</td>\n",
       "      <td>19.710000</td>\n",
       "      <td>667.580000</td>\n",
       "      <td>667.580000</td>\n",
       "    </tr>\n",
       "  </tbody>\n",
       "</table>\n",
       "<p>8 rows × 26 columns</p>\n",
       "</div>"
      ],
      "text/plain": [
       "         p_change        price       change         open         high          low     preprice            pe     volratio     turnover     ...            floats       fvalues      abvalues     avgprice     strength     activity  avgturnover       attack    interval3    interval6\n",
       "count  3525.00000  3525.000000  3525.000000  3525.000000  3525.000000  3525.000000  3525.000000   3525.000000  3525.000000  3525.000000     ...       3525.000000   3525.000000   3525.000000  3525.000000  3525.000000  3525.000000  3525.000000  3525.000000  3514.000000  3514.000000\n",
       "mean     -0.12615    17.494902    -0.018403    16.622060    16.924803    16.380650    17.513305    105.827705     0.928142     2.681904     ...         13.127265    125.114105    158.441807    17.517782     0.430085  1589.539858     0.001387     1.190479     9.322072    -1.567160\n",
       "std       2.05025    20.921064     0.636029    21.184212    21.554956    20.864223    21.017067    403.167113     0.990300     6.074747     ...         85.518935    542.192342    555.352135    20.992097     2.051950  1100.530394     0.002164     1.668962    31.001743    40.273957\n",
       "min     -10.01000     0.000000    -8.380000     0.000000     0.000000     0.000000     0.000000      0.000000     0.000000     0.000000     ...          0.000000      0.000000      0.000000     0.000000    -9.380000     0.000000     0.000000     0.000000   -76.160000   -86.040000\n",
       "25%      -1.13000     6.890000    -0.130000     6.210000     6.300000     6.140000     6.900000     17.070000     0.610000     0.400000     ...          1.640000     22.490000     36.620000     6.890000    -0.570000   748.000000     0.000400     0.230000    -4.360000   -17.427500\n",
       "50%      -0.21000    11.400000    -0.020000    10.800000    10.950000    10.640000    11.410000     37.650000     0.800000     0.890000     ...          4.300000     41.510000     59.890000    11.430000     0.330000  1371.000000     0.000800     0.640000     4.460000    -8.220000\n",
       "75%       0.49000    21.590000     0.050000    20.590000    20.890000    20.300000    21.430000     80.370000     1.050000     2.180000     ...          9.350000     85.960000    124.610000    21.630000     1.040000  2276.000000     0.001500     1.480000    17.807500     3.477500\n",
       "max      10.07000   715.400000     9.590000   720.000000   728.660000   713.000000   723.780000  14569.500000    42.220000    79.610000     ...       2940.550000  15556.630000  15556.620000   720.570000    10.700000  4718.000000     0.048600    19.710000   667.580000   667.580000\n",
       "\n",
       "[8 rows x 26 columns]"
      ]
     },
     "execution_count": 29,
     "metadata": {},
     "output_type": "execute_result"
    }
   ],
   "source": [
    "df.describe()"
   ]
  },
  {
   "cell_type": "code",
   "execution_count": 34,
   "metadata": {
    "scrolled": true
   },
   "outputs": [
    {
     "data": {
      "text/html": [
       "<div>\n",
       "<style scoped>\n",
       "    .dataframe tbody tr th:only-of-type {\n",
       "        vertical-align: middle;\n",
       "    }\n",
       "\n",
       "    .dataframe tbody tr th {\n",
       "        vertical-align: top;\n",
       "    }\n",
       "\n",
       "    .dataframe thead th {\n",
       "        text-align: right;\n",
       "    }\n",
       "</style>\n",
       "<table border=\"1\" class=\"dataframe\">\n",
       "  <thead>\n",
       "    <tr style=\"text-align: right;\">\n",
       "      <th></th>\n",
       "      <th>code</th>\n",
       "      <th>name</th>\n",
       "      <th>p_change</th>\n",
       "      <th>price</th>\n",
       "      <th>change</th>\n",
       "      <th>open</th>\n",
       "      <th>high</th>\n",
       "      <th>low</th>\n",
       "      <th>preprice</th>\n",
       "      <th>pe</th>\n",
       "      <th>...</th>\n",
       "      <th>floats</th>\n",
       "      <th>fvalues</th>\n",
       "      <th>abvalues</th>\n",
       "      <th>avgprice</th>\n",
       "      <th>strength</th>\n",
       "      <th>activity</th>\n",
       "      <th>avgturnover</th>\n",
       "      <th>attack</th>\n",
       "      <th>interval3</th>\n",
       "      <th>interval6</th>\n",
       "    </tr>\n",
       "    <tr>\n",
       "      <th>code</th>\n",
       "      <th></th>\n",
       "      <th></th>\n",
       "      <th></th>\n",
       "      <th></th>\n",
       "      <th></th>\n",
       "      <th></th>\n",
       "      <th></th>\n",
       "      <th></th>\n",
       "      <th></th>\n",
       "      <th></th>\n",
       "      <th></th>\n",
       "      <th></th>\n",
       "      <th></th>\n",
       "      <th></th>\n",
       "      <th></th>\n",
       "      <th></th>\n",
       "      <th></th>\n",
       "      <th></th>\n",
       "      <th></th>\n",
       "      <th></th>\n",
       "      <th></th>\n",
       "    </tr>\n",
       "  </thead>\n",
       "  <tbody>\n",
       "    <tr>\n",
       "      <th>600438</th>\n",
       "      <td>600438</td>\n",
       "      <td>通威股份</td>\n",
       "      <td>-2.6</td>\n",
       "      <td>11.63</td>\n",
       "      <td>-0.31</td>\n",
       "      <td>12.0</td>\n",
       "      <td>12.04</td>\n",
       "      <td>11.56</td>\n",
       "      <td>11.94</td>\n",
       "      <td>35.23</td>\n",
       "      <td>...</td>\n",
       "      <td>27.82</td>\n",
       "      <td>323.6</td>\n",
       "      <td>451.52</td>\n",
       "      <td>11.67</td>\n",
       "      <td>-2.14</td>\n",
       "      <td>3382.0</td>\n",
       "      <td>0.0002</td>\n",
       "      <td>0.61</td>\n",
       "      <td>19.28</td>\n",
       "      <td>-4.2</td>\n",
       "    </tr>\n",
       "  </tbody>\n",
       "</table>\n",
       "<p>1 rows × 30 columns</p>\n",
       "</div>"
      ],
      "text/plain": [
       "          code  name  p_change  price  change  open   high    low  preprice     pe    ...     floats  fvalues  abvalues  avgprice  strength  activity  avgturnover  attack interval3 interval6\n",
       "code                                                                                  ...                                                                                                     \n",
       "600438  600438  通威股份      -2.6  11.63   -0.31  12.0  12.04  11.56     11.94  35.23    ...      27.82    323.6    451.52     11.67     -2.14    3382.0       0.0002    0.61     19.28      -4.2\n",
       "\n",
       "[1 rows x 30 columns]"
      ]
     },
     "execution_count": 34,
     "metadata": {},
     "output_type": "execute_result"
    }
   ],
   "source": [
    "df[df.code=='600438']"
   ]
  },
  {
   "cell_type": "code",
   "execution_count": 35,
   "metadata": {},
   "outputs": [
    {
     "data": {
      "text/plain": [
       "Index([u'code', u'name', u'p_change', u'price', u'change', u'open', u'high', u'low', u'preprice', u'pe', u'volratio', u'turnover', u'range', u'volume', u'selling', u'buying', u'amount', u'totals', u'industry', u'area', u'floats', u'fvalues', u'abvalues', u'avgprice', u'strength', u'activity', u'avgturnover', u'attack', u'interval3', u'interval6'], dtype='object')"
      ]
     },
     "execution_count": 35,
     "metadata": {},
     "output_type": "execute_result"
    }
   ],
   "source": [
    "df.columns"
   ]
  },
  {
   "cell_type": "code",
   "execution_count": 37,
   "metadata": {},
   "outputs": [
    {
     "data": {
      "text/plain": [
       "<pandas.core.groupby.groupby.DataFrameGroupBy object at 0x000000001144F978>"
      ]
     },
     "execution_count": 37,
     "metadata": {},
     "output_type": "execute_result"
    }
   ],
   "source": [
    "df.groupby(df.industry)"
   ]
  },
  {
   "cell_type": "code",
   "execution_count": 61,
   "metadata": {},
   "outputs": [
    {
     "name": "stdout",
     "output_type": "stream",
     "text": [
      "专用机械 0.27 129\n",
      "中成药 1.05 75\n",
      "乳制品 0.88 11\n",
      "互联网 0.06 51\n",
      "仓储物流 1.7 34\n",
      "供气供热 -0.24 27\n",
      "保险 0.23 6\n",
      "元器件 -0.08 160\n",
      "全国地产 0.23 38\n",
      "公共交通 0.89 9\n",
      "公路 2.02 6\n",
      "其他商业 0.71 9\n",
      "其他建材 0.72 29\n",
      "农业综合 0.17 25\n",
      "农用机械 1.01 10\n",
      "农药化肥 0.7 46\n",
      "出版业 0.76 24\n",
      "化学制药 1.22 86\n",
      "化工原料 0.56 154\n",
      "化工机械 0.45 11\n",
      "化纤 0.02 24\n",
      "区域地产 0.54 70\n",
      "医疗保健 0.91 64\n",
      "医药商业 0.77 22\n",
      "半导体 -0.6 55\n",
      "商品城 -0.06 3\n",
      "商贸代理 0.42 22\n",
      "啤酒 0.42 7\n",
      "园区开发 0.31 15\n",
      "塑料 0.57 45\n",
      "多元金融 -0.17 20\n",
      "家居用品 0.36 37\n",
      "家用电器 0.26 43\n",
      "小金属 0.67 33\n",
      "工程机械 0.03 30\n",
      "广告包装 1.07 36\n",
      "建筑施工 0.44 86\n",
      "影视音像 0.26 42\n",
      "房产服务 -0.39 7\n",
      "批发业 1.14 8\n",
      "摩托车 -0.17 8\n",
      "文教休闲 0.15 30\n",
      "新型电力 0.02 8\n",
      "旅游景点 0.5 12\n",
      "旅游服务 1.98 14\n",
      "日用化工 2.41 10\n",
      "普钢 0.39 24\n",
      "服饰 -0.04 54\n",
      "机场 0.93 4\n",
      "机床制造 -0.27 12\n",
      "机械基件 0.62 70\n",
      "林业 0.85 6\n",
      "染料涂料 0.96 22\n",
      "橡胶 0.55 11\n",
      "水力发电 -0.56 21\n",
      "水务 0.73 11\n",
      "水泥 1.17 21\n",
      "水运 1.04 13\n",
      "汽车整车 -0.29 23\n",
      "汽车服务 -0.12 9\n",
      "汽车配件 0.48 127\n",
      "渔业 1.31 8\n",
      "港口 1.19 18\n",
      "火力发电 0.14 34\n",
      "焦炭加工 0.58 7\n",
      "煤炭开采 0.25 29\n",
      "特种钢 1.0 9\n",
      "环境保护 -0.4 62\n",
      "玻璃 -0.1 18\n",
      "生物制药 0.9 41\n",
      "电信运营 -0.32 8\n",
      "电器仪表 0.37 60\n",
      "电器连锁 3.51 2\n",
      "电气设备 0.4 166\n",
      "电脑设备 0.79 32\n",
      "白酒 -0.24 19\n",
      "百货 1.22 47\n",
      "石油加工 1.01 9\n",
      "石油开采 -0.33 16\n",
      "石油贸易 0.39 6\n",
      "矿物制品 -0.02 19\n",
      "种植业 0.23 14\n",
      "空运 0.12 8\n",
      "红黄药酒 0.58 11\n",
      "纺织 0.48 47\n",
      "纺织机械 0.73 11\n",
      "综合类 0.83 33\n",
      "航空 -0.67 22\n",
      "船舶 -0.78 8\n",
      "装修装饰 0.84 26\n",
      "证券 -0.15 36\n",
      "超市连锁 2.5 11\n",
      "路桥 1.17 19\n",
      "软件服务 0.16 165\n",
      "软饮料 1.93 6\n",
      "轻工机械 0.81 10\n",
      "运输设备 0.31 17\n",
      "通信设备 0.35 115\n",
      "造纸 0.35 25\n",
      "酒店餐饮 1.2 10\n",
      "钢加工 0.48 26\n",
      "铁路 -0.36 3\n",
      "铅锌 -0.23 14\n",
      "铜 0.27 14\n",
      "铝 0.16 25\n",
      "银行 -0.05 26\n",
      "陶瓷 0.46 7\n",
      "食品 0.42 58\n",
      "饲料 1.21 18\n",
      "黄金 0.58 11\n"
     ]
    }
   ],
   "source": [
    "for k,d in df.groupby(df.industry):\n",
    "        print k,d['strength'].mean().round(2),d['strength'].count()"
   ]
  },
  {
   "cell_type": "code",
   "execution_count": null,
   "metadata": {},
   "outputs": [],
   "source": []
  }
 ],
 "metadata": {
  "kernelspec": {
   "display_name": "Python 2",
   "language": "python",
   "name": "python2"
  },
  "language_info": {
   "codemirror_mode": {
    "name": "ipython",
    "version": 2
   },
   "file_extension": ".py",
   "mimetype": "text/x-python",
   "name": "python",
   "nbconvert_exporter": "python",
   "pygments_lexer": "ipython2",
   "version": "2.7.15"
  }
 },
 "nbformat": 4,
 "nbformat_minor": 2
}
