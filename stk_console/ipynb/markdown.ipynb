{
 "cells": [
  {
   "cell_type": "code",
   "execution_count": 1,
   "metadata": {},
   "outputs": [],
   "source": [
    "import tushare as ts"
   ]
  },
  {
   "cell_type": "code",
   "execution_count": 2,
   "metadata": {},
   "outputs": [
    {
     "name": "stdout",
     "output_type": "stream",
     "text": [
      "Help on function bdi in module tushare.internet.indexes:\n",
      "\n",
      "bdi(itype='D', retry_count=3, pause=0.001)\n",
      "\n"
     ]
    }
   ],
   "source": [
    "help(ts.bdi)"
   ]
  },
  {
   "cell_type": "code",
   "execution_count": 1,
   "metadata": {},
   "outputs": [
    {
     "data": {
      "text/plain": [
       "<matplotlib.figure.Figure at 0x7727400>"
      ]
     },
     "metadata": {},
     "output_type": "display_data"
    }
   ],
   "source": [
    "#import seaborn as sb\n",
    "#%matplotlib notebook\n",
    "import matplotlib.pyplot as plt\n",
    "plt.plot(range(100))\n",
    "plt.show()"
   ]
  },
  {
   "cell_type": "markdown",
   "metadata": {},
   "source": [
    "### title\n",
    "whats mark down 's syntax ### is title\n",
    "1. aa\n",
    "2. bb\n",
    " 1. [shenme](http://google.com)\n",
    "  1. aa\n",
    "  2. dd\n",
    " + []()\n",
    "3. cc \n",
    "  * {}\n",
    "- minus\n",
    "+ plus![alt text](https://github.com/adam-p/markdown-here/raw/master/src/common/images/icon48.png \"Logo Title Text 1\")\n",
    "- table\n",
    "\n",
    "Markdown | Less | Pretty\n",
    "--- | --- | ---\n",
    "*Still* | `renders` | **nicely**\n",
    "1 | 2 | 3\n",
    "```python\n",
    "print(aa)\n",
    "\n",
    "```\n",
    "```javascript\n",
    "alert(\"hello\")\n",
    "```\n",
    "~~~~\n",
    "piece of code\n",
    "~~~~\n"
   ]
  },
  {
   "cell_type": "code",
   "execution_count": null,
   "metadata": {},
   "outputs": [],
   "source": []
  }
 ],
 "metadata": {
  "kernelspec": {
   "display_name": "Python 2",
   "language": "python",
   "name": "python2"
  },
  "language_info": {
   "codemirror_mode": {
    "name": "ipython",
    "version": 2
   },
   "file_extension": ".py",
   "mimetype": "text/x-python",
   "name": "python",
   "nbconvert_exporter": "python",
   "pygments_lexer": "ipython2",
   "version": "2.7.15"
  }
 },
 "nbformat": 4,
 "nbformat_minor": 2
}
